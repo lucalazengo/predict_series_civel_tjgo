{
  "cells": [
    {
      "cell_type": "markdown",
      "metadata": {},
      "source": [
        "# 📊 Notebook: Modelo SARIMAX - Forecasting TJGO\n",
        "\n",
        "Este notebook demonstra o uso do modelo SARIMAX (Seasonal ARIMA with eXogenous variables) para previsão de casos no TJGO.\n",
        "\n",
        "## 🎯 Objetivos\n",
        "- Treinar modelo SARIMAX com variáveis exógenas\n",
        "- Analisar estacionariedade da série\n",
        "- Avaliar diagnósticos do modelo\n",
        "- Comparar com outros modelos\n",
        "\n",
        "## 📈 Características do SARIMAX\n",
        "- **ARIMA**: AutoRegressive Integrated Moving Average\n",
        "- **Sazonalidade**: Componente sazonal (P,D,Q,s)\n",
        "- **Variáveis Exógenas**: Incorpora fatores externos\n",
        "- **Diagnósticos**: Testes estatísticos robustos\n",
        "- **Flexibilidade**: Parâmetros ajustáveis\n"
      ]
    },
    {
      "cell_type": "code",
      "execution_count": null,
      "metadata": {},
      "outputs": [],
      "source": [
        "# Importações necessárias\n",
        "import pandas as pd\n",
        "import numpy as np\n",
        "import matplotlib.pyplot as plt\n",
        "import seaborn as sns\n",
        "import warnings\n",
        "warnings.filterwarnings('ignore')\n",
        "\n",
        "# Importar modelo SARIMAX\n",
        "import sys\n",
        "sys.path.append('../src')\n",
        "from models.sarimax_model import SARIMAXModel, train_sarimax_model\n",
        "\n",
        "# Configurar matplotlib\n",
        "plt.style.use('seaborn-v0_8')\n",
        "plt.rcParams['figure.figsize'] = (12, 6)\n",
        "\n",
        "print(\"✅ Bibliotecas importadas com sucesso!\")\n",
        "print(\"📊 Pronto para usar o modelo SARIMAX\")\n"
      ]
    },
    {
      "cell_type": "code",
      "execution_count": null,
      "metadata": {},
      "outputs": [],
      "source": [
        "# Carregar dados processados\n",
        "train_data = pd.read_csv('../data/processed_test/train_test.csv', index_col='DATA', parse_dates=True)\n",
        "test_data = pd.read_csv('../data/processed_test/test_test.csv', index_col='DATA', parse_dates=True)\n",
        "\n",
        "print(\"📊 Dados carregados:\")\n",
        "print(f\"  Treino: {len(train_data)} observações\")\n",
        "print(f\"  Teste:  {len(test_data)} observações\")\n",
        "print(f\"  Variáveis: {len(train_data.columns)}\")\n",
        "\n",
        "# Visualizar série temporal\n",
        "plt.figure(figsize=(15, 6))\n",
        "plt.plot(train_data.index, train_data['TOTAL_CASOS'], label='Treino', linewidth=2)\n",
        "plt.plot(test_data.index, test_data['TOTAL_CASOS'], label='Teste', linewidth=2)\n",
        "plt.title('Série Temporal - TOTAL_CASOS', fontweight='bold', fontsize=14)\n",
        "plt.xlabel('Data')\n",
        "plt.ylabel('TOTAL_CASOS')\n",
        "plt.legend()\n",
        "plt.grid(True, alpha=0.3)\n",
        "plt.show()\n"
      ]
    },
    {
      "cell_type": "markdown",
      "metadata": {},
      "source": [
        "## 🔧 2. Treinamento do Modelo SARIMAX\n"
      ]
    },
    {
      "cell_type": "code",
      "execution_count": null,
      "metadata": {},
      "outputs": [],
      "source": [
        "# Criar e treinar modelo SARIMAX\n",
        "sarimax_model = SARIMAXModel(train_data, test_data)\n",
        "\n",
        "# Treinar com parâmetros padrão\n",
        "sarimax_model.train(\n",
        "    order=(1,1,1),\n",
        "    seasonal_order=(1,1,1,12),\n",
        "    exog_vars=['TAXA_SELIC', 'IPCA', 'TAXA_DESOCUPACAO', 'INADIMPLENCIA'],\n",
        "    enforce_stationarity=False,\n",
        "    enforce_invertibility=False\n",
        ")\n",
        "\n",
        "# Imprimir resumo\n",
        "sarimax_model.print_summary(\"SARIMAX\")\n",
        "sarimax_model.print_model_info()\n"
      ]
    },
    {
      "cell_type": "markdown",
      "metadata": {},
      "source": [
        "## 📈 3. Análises e Diagnósticos\n"
      ]
    },
    {
      "cell_type": "code",
      "execution_count": null,
      "metadata": {},
      "outputs": [],
      "source": [
        "# Plotar previsões vs valores reais\n",
        "sarimax_model.plot_predictions(\"SARIMAX\", save_path=\"../reports_test/sarimax_predictions.png\")\n"
      ]
    },
    {
      "cell_type": "code",
      "execution_count": null,
      "metadata": {},
      "outputs": [],
      "source": [
        "# Plotar ACF e PACF\n",
        "sarimax_model.plot_acf_pacf(save_path=\"../reports_test/sarimax_acf_pacf.png\")\n"
      ]
    },
    {
      "cell_type": "code",
      "execution_count": null,
      "metadata": {},
      "outputs": [],
      "source": [
        "# Plotar diagnósticos do modelo\n",
        "sarimax_model.plot_diagnostics(save_path=\"../reports_test/sarimax_diagnostics.png\")\n"
      ]
    },
    {
      "cell_type": "code",
      "execution_count": null,
      "metadata": {},
      "outputs": [],
      "source": [
        "# Plotar resíduos\n",
        "sarimax_model.plot_residuals(\"SARIMAX\", save_path=\"../reports_test/sarimax_residuals.png\")\n"
      ]
    },
    {
      "cell_type": "code",
      "execution_count": null,
      "metadata": {},
      "outputs": [],
      "source": [
        "# Obter resumo estatístico do modelo\n",
        "summary = sarimax_model.get_model_summary()\n",
        "print(\"📊 Resumo Estatístico do Modelo SARIMAX:\")\n",
        "print(summary)\n"
      ]
    },
    {
      "cell_type": "markdown",
      "metadata": {},
      "source": [
        "## 💾 4. Salvamento dos Resultados\n"
      ]
    },
    {
      "cell_type": "code",
      "execution_count": null,
      "metadata": {},
      "outputs": [],
      "source": [
        "# Salvar resultados do modelo\n",
        "sarimax_model.save_results(\"SARIMAX\", save_dir=\"../reports_test\")\n",
        "\n",
        "print(\"✅ Resultados do SARIMAX salvos com sucesso!\")\n"
      ]
    }
  ],
  "metadata": {
    "language_info": {
      "name": "python"
    }
  },
  "nbformat": 4,
  "nbformat_minor": 2
}
